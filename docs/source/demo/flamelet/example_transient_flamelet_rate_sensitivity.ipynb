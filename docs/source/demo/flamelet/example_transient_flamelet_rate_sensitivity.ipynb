{
 "cells": [
  {
   "cell_type": "markdown",
   "metadata": {},
   "source": [
    "# Transient Flamelet Example: Ignition Sensitivity to Rate Parameter\n",
    "\n",
    "_This demo is part of Spitfire, with [licensing and copyright info here.](https://github.com/sandialabs/Spitfire/blob/master/license.md)_\n",
    "\n",
    "_Highlights_\n",
    "- Solving transient flamelet ignition trajectories\n",
    "- Observing sensitivity of the ignition behavior to a key reaction rate parameter\n",
    "\n",
    "\n",
    "In this demonstration we use the `integrate_to_steady` method as in previous notebooks, this time to look at how ignition behavior is affected by the pre-exponential factor of a key chain-branching reaction in hydrogen-air ignition. Cantera is used to load the nominal chemistry and modify the reaction rate accordingly."
   ]
  },
  {
   "cell_type": "code",
   "execution_count": 3,
   "metadata": {},
   "outputs": [],
   "source": [
    "import cantera as ct\n",
    "from spitfire import ChemicalMechanismSpec, Flamelet, FlameletSpec\n",
    "import matplotlib.pyplot as plt\n",
    "import numpy as np\n",
    "from os.path import abspath, join"
   ]
  },
  {
   "cell_type": "code",
   "execution_count": 5,
   "metadata": {},
   "outputs": [
    {
     "name": "stdout",
     "output_type": "stream",
     "text": [
      "running 0.02A ...\n",
      "running 0.10A ...\n",
      "running 0.20A ...\n",
      "running 1.00A ...\n",
      "running 10.00A ...\n",
      "running 100.00A ...\n",
      "done\n"
     ]
    }
   ],
   "source": [
    "sol = ct.Solution('h2-burke.xml', 'h2-burke')\n",
    "\n",
    "Tair = 1200.\n",
    "pressure = 101325.\n",
    "zstoich = 0.1\n",
    "chi_max = 1.e3\n",
    "npts_interior = 32\n",
    "\n",
    "k1mult_list = [0.02, 0.1, 0.2, 1.0, 10.0, 100.0]\n",
    "sol_dict = dict()\n",
    "\n",
    "max_time = 0.\n",
    "max_temp = 0.\n",
    "\n",
    "A0_original = np.copy(sol.reaction(0).rate.pre_exponential_factor)\n",
    "\n",
    "for i, k1mult in enumerate(k1mult_list):\n",
    "    print(f'running {k1mult:.2f}A ...')\n",
    "    r0 = sol.reaction(0)\n",
    "    new_rate = ct.Arrhenius(k1mult * A0_original,\n",
    "                            r0.rate.temperature_exponent,\n",
    "                            r0.rate.activation_energy)\n",
    "    new_rxn = ct.ElementaryReaction(r0.reactants, r0.products)\n",
    "    new_rxn.rate = new_rate\n",
    "    sol.modify_reaction(0, new_rxn)\n",
    "\n",
    "    m = ChemicalMechanismSpec.from_solution(sol)\n",
    "    air = m.stream(stp_air=True)\n",
    "    air.TP = Tair, pressure\n",
    "    fuel = m.mix_fuels_for_stoich_mixture_fraction(m.stream('X', 'H2:1'), m.stream('X', 'N2:1'), zstoich, air)\n",
    "    fuel.TP = 300., pressure\n",
    "\n",
    "    flamelet_specs = FlameletSpec(mech_spec=m, \n",
    "                                  initial_condition='unreacted',\n",
    "                                  oxy_stream=air,\n",
    "                                  fuel_stream=fuel,\n",
    "                                  grid_points=npts_interior + 2,\n",
    "                                  grid_cluster_intensity=4.,\n",
    "                                  max_dissipation_rate=chi_max)\n",
    "\n",
    "    ft = Flamelet(flamelet_specs)\n",
    "    output = ft.integrate_to_steady(first_time_step=1.e-9)\n",
    "\n",
    "    t = output.time_grid * 1.e3\n",
    "    z = output.mixture_fraction_grid\n",
    "    T = output['temperature']\n",
    "    OH = output['mass fraction OH']\n",
    "    max_time = max([max_time, np.max(t)])\n",
    "    max_temp = max([max_temp, np.max(T)])\n",
    "\n",
    "    sol_dict[k1mult] = (i, t, z, T, OH)\n",
    "    \n",
    "print('done')"
   ]
  },
  {
   "cell_type": "markdown",
   "metadata": {},
   "source": [
    "Next we simply show the profiles of temperature and hydroxyl mass fraction with the various rate parameters. We not only see the expected decrease in ignition delay with larger pre-exponential factor, but also that ignition does not occur at lower values as chain-branching is entirely overwhelmed by dissipation."
   ]
  },
  {
   "cell_type": "code",
   "execution_count": 8,
   "metadata": {},
   "outputs": [
    {
     "data": {
      "image/png": "[encoded data removed]",
      "text/plain": [
       "<Figure size 432x288 with 6 Axes>"
      ]
     },
     "metadata": {
      "needs_background": "light"
     },
     "output_type": "display_data"
    },
    {
     "name": "stdout",
     "output_type": "stream",
     "text": [
      "Mass fraction OH profiles\n"
     ]
    },
    {
     "data": {
      "image/png": "[encoded data removed]",
      "text/plain": [
       "<Figure size 432x288 with 6 Axes>"
      ]
     },
     "metadata": {
      "needs_background": "light"
     },
     "output_type": "display_data"
    }
   ],
   "source": [
    "fig, axarray = plt.subplots(1, len(k1mult_list), sharex=True, sharey=True)\n",
    "\n",
    "for k1mult in k1mult_list:\n",
    "    sol = sol_dict[k1mult]\n",
    "    axarray[sol[0]].contourf(sol[2], sol[1] * 1.e3, sol[3],\n",
    "                             cmap=plt.get_cmap('magma'),\n",
    "                             levels=np.linspace(300., max_temp, 20))\n",
    "    axarray[sol[0]].set_title(f'{k1mult:.2f}A')\n",
    "    axarray[sol[0]].set_xlim([0, 1])\n",
    "    axarray[sol[0]].set_ylim([1.e0, max_time * 1.e3])\n",
    "    axarray[sol[0]].set_yscale('log')\n",
    "    axarray[sol[0]].set_xlabel('Z')\n",
    "\n",
    "axarray[0].set_ylabel('t (ms)')\n",
    "plt.show()\n",
    "\n",
    "fig, axarray = plt.subplots(1, len(k1mult_list), sharex=True, sharey=True)\n",
    "\n",
    "print('Mass fraction OH profiles')\n",
    "\n",
    "for k1mult in k1mult_list:\n",
    "    sol = sol_dict[k1mult]\n",
    "    axarray[sol[0]].contourf(sol[2], sol[1] * 1.e3, sol[4],\n",
    "                             cmap=plt.get_cmap('magma'))\n",
    "    axarray[sol[0]].set_title(f'{k1mult:.2f}A')\n",
    "    axarray[sol[0]].set_xlim([0, 1])\n",
    "    axarray[sol[0]].set_ylim([1.e0, max_time * 1.e3])\n",
    "    axarray[sol[0]].set_yscale('log')\n",
    "    axarray[sol[0]].set_xlabel('Z')\n",
    "\n",
    "axarray[0].set_ylabel('t (ms)')\n",
    "plt.show()"
   ]
  },
  {
   "cell_type": "code",
   "execution_count": null,
   "metadata": {},
   "outputs": [],
   "source": []
  }
 ],
 "metadata": {
  "kernelspec": {
   "display_name": "Python 3",
   "language": "python",
   "name": "python3"
  },
  "language_info": {
   "codemirror_mode": {
    "name": "ipython",
    "version": 3
   },
   "file_extension": ".py",
   "mimetype": "text/x-python",
   "name": "python",
   "nbconvert_exporter": "python",
   "pygments_lexer": "ipython3",
   "version": "3.7.10"
  }
 },
 "nbformat": 4,
 "nbformat_minor": 4
}
