{
 "cells": [
  {
   "cell_type": "code",
   "execution_count": 1,
   "metadata": {},
   "outputs": [],
   "source": [
    "from spitfire import (ChemicalMechanismSpec, \n",
    "                      Flamelet,\n",
    "                      SimpleNewtonSolver,\n",
    "                      BackwardEulerS1P1Q1,\n",
    "                      KennedyCarpenterS6P4Q3,\n",
    "                      KvaernoS4P3Q2,\n",
    "                      KennedyCarpenterS4P3Q2,\n",
    "                      KennedyCarpenterS8P5Q4)\n",
    "import cantera as ct\n",
    "import matplotlib.pyplot as plt\n",
    "import numpy as np\n",
    "from time import perf_counter"
   ]
  },
  {
   "cell_type": "code",
   "execution_count": null,
   "metadata": {
    "scrolled": false
   },
   "outputs": [
    {
     "name": "stdout",
     "output_type": "stream",
     "text": [
      "Running backward Euler... done in 22.3 s\n",
      "Running Kennedy/Carpenter ESDIRK64... done in 3.7 s\n",
      "Running Kvaerno ESDIRK43... "
     ]
    }
   ],
   "source": [
    "sol = ct.Solution('h2-burke.xml', 'h2-burke')\n",
    "m = ChemicalMechanismSpec.from_solution(sol)\n",
    "\n",
    "Tair = 1200.\n",
    "pressure = 101325.\n",
    "zstoich = 0.1\n",
    "chi_max = 1.e3\n",
    "npts = 65\n",
    "\n",
    "air = m.stream(stp_air=True)\n",
    "air.TP = Tair, pressure\n",
    "fuel = m.mix_fuels_for_stoich_mixture_fraction(m.stream('X', 'H2:1'), m.stream('X', 'N2:1'), zstoich, air)\n",
    "fuel.TP = 300., pressure\n",
    "\n",
    "output_dict = dict()\n",
    "\n",
    "for method in [BackwardEulerS1P1Q1,\n",
    "               KennedyCarpenterS6P4Q3,\n",
    "               KvaernoS4P3Q2,\n",
    "               KennedyCarpenterS4P3Q2,\n",
    "               KennedyCarpenterS8P5Q4]:\n",
    "    ft = Flamelet(mech_spec=m,\n",
    "                  pressure=pressure,\n",
    "                  oxy_stream=air,\n",
    "                  fuel_stream=fuel,\n",
    "                  max_dissipation_rate=chi_max,\n",
    "                  grid_points=npts,\n",
    "                  grid_cluster_intensity=4.,\n",
    "                  initial_condition='unreacted')\n",
    "\n",
    "    print(f'Running {method(SimpleNewtonSolver()).name}... ', end='')\n",
    "    tic = perf_counter()\n",
    "    output_dict[method(SimpleNewtonSolver()).name] = ft.integrate_to_steady(stepper_type=method)\n",
    "    print(f'done in {perf_counter() - tic:.1f} s')"
   ]
  },
  {
   "cell_type": "code",
   "execution_count": null,
   "metadata": {},
   "outputs": [],
   "source": [
    "%matplotlib notebook\n",
    "for name in output_dict:\n",
    "    output = output_dict[name]\n",
    "    plt.loglog(output.time_values[1:], output.time_values[1:]-output.time_values[:-1], label=name)\n",
    "plt.legend(loc='best')\n",
    "plt.grid()\n",
    "plt.show()"
   ]
  },
  {
   "cell_type": "code",
   "execution_count": null,
   "metadata": {},
   "outputs": [],
   "source": []
  }
 ],
 "metadata": {
  "kernelspec": {
   "display_name": "Python 3",
   "language": "python",
   "name": "python3"
  },
  "language_info": {
   "codemirror_mode": {
    "name": "ipython",
    "version": 3
   },
   "file_extension": ".py",
   "mimetype": "text/x-python",
   "name": "python",
   "nbconvert_exporter": "python",
   "pygments_lexer": "ipython3",
   "version": "3.6.9"
  }
 },
 "nbformat": 4,
 "nbformat_minor": 4
}
